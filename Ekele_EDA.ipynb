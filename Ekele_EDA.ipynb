{
 "cells": [
  {
   "cell_type": "code",
   "execution_count": 1,
   "id": "9771a1eb",
   "metadata": {},
   "outputs": [],
   "source": [
    "# importing pandas as pd\n",
    "import pandas as pd\n",
    "  \n",
    "# Read and store content\n",
    "# of an excel file \n",
    "read_file = pd.read_excel (\"DataSet.xlsx\")"
   ]
  },
  {
   "cell_type": "code",
   "execution_count": 3,
   "id": "8b94c661",
   "metadata": {},
   "outputs": [],
   "source": [
    "# Write the dataframe object\n",
    "# into csv file\n",
    "read_file.to_csv (\"DataSet.csv\", \n",
    "                  index = None,\n",
    "                  header=True)\n",
    "    \n",
    "# read csv file and convert \n",
    "# into a dataframe object\n",
    "df = pd.DataFrame(pd.read_csv(\"DataSet.csv\"))"
   ]
  },
  {
   "cell_type": "code",
   "execution_count": 4,
   "id": "c196933e",
   "metadata": {},
   "outputs": [
    {
     "data": {
      "text/html": [
       "<div>\n",
       "<style scoped>\n",
       "    .dataframe tbody tr th:only-of-type {\n",
       "        vertical-align: middle;\n",
       "    }\n",
       "\n",
       "    .dataframe tbody tr th {\n",
       "        vertical-align: top;\n",
       "    }\n",
       "\n",
       "    .dataframe thead th {\n",
       "        text-align: right;\n",
       "    }\n",
       "</style>\n",
       "<table border=\"1\" class=\"dataframe\">\n",
       "  <thead>\n",
       "    <tr style=\"text-align: right;\">\n",
       "      <th></th>\n",
       "      <th>PolicyId</th>\n",
       "      <th>ClaimId</th>\n",
       "      <th>SumTotalClaimAmount</th>\n",
       "      <th>CountTotalClaimAmount</th>\n",
       "      <th>PremiumSum</th>\n",
       "      <th>CasePremiumSum</th>\n",
       "      <th>PaymentDueDate</th>\n",
       "      <th>TotalPremiumPaymentCount</th>\n",
       "      <th>PreviousInsurerExcess</th>\n",
       "      <th>PreviousInsurerPremium</th>\n",
       "      <th>...</th>\n",
       "      <th>CommencementDt</th>\n",
       "      <th>PolicyEndDate</th>\n",
       "      <th>SumAssured</th>\n",
       "      <th>MeanExcess</th>\n",
       "      <th>TotalExcess</th>\n",
       "      <th>ExcessTypesCount</th>\n",
       "      <th>BaseExcess</th>\n",
       "      <th>NomimatedDriversCount</th>\n",
       "      <th>NomimatedDriversUnder30Count</th>\n",
       "      <th>0.5865768182345752</th>\n",
       "    </tr>\n",
       "  </thead>\n",
       "  <tbody>\n",
       "    <tr>\n",
       "      <th>0</th>\n",
       "      <td>10806273</td>\n",
       "      <td>NaN</td>\n",
       "      <td>NaN</td>\n",
       "      <td>NaN</td>\n",
       "      <td>4915.98</td>\n",
       "      <td>4369.76</td>\n",
       "      <td>2021-12-29</td>\n",
       "      <td>8.0</td>\n",
       "      <td>0.0</td>\n",
       "      <td>0.0</td>\n",
       "      <td>...</td>\n",
       "      <td>2020-01-06</td>\n",
       "      <td>2021-12-29 14:46:25.4847000</td>\n",
       "      <td>45700.0</td>\n",
       "      <td>3166.666666</td>\n",
       "      <td>19000.0</td>\n",
       "      <td>6.0</td>\n",
       "      <td>1000.0</td>\n",
       "      <td>2.0</td>\n",
       "      <td>1.0</td>\n",
       "      <td>0.376611</td>\n",
       "    </tr>\n",
       "    <tr>\n",
       "      <th>1</th>\n",
       "      <td>10822247</td>\n",
       "      <td>NaN</td>\n",
       "      <td>NaN</td>\n",
       "      <td>NaN</td>\n",
       "      <td>3342.60</td>\n",
       "      <td>668.52</td>\n",
       "      <td>2020-09-30</td>\n",
       "      <td>1.0</td>\n",
       "      <td>4500.0</td>\n",
       "      <td>900.0</td>\n",
       "      <td>...</td>\n",
       "      <td>2020-05-18</td>\n",
       "      <td>2020-10-16 00:00:44.0122000</td>\n",
       "      <td>113100.0</td>\n",
       "      <td>4500.000000</td>\n",
       "      <td>9000.0</td>\n",
       "      <td>2.0</td>\n",
       "      <td>5000.0</td>\n",
       "      <td>1.0</td>\n",
       "      <td>1.0</td>\n",
       "      <td>0.788738</td>\n",
       "    </tr>\n",
       "    <tr>\n",
       "      <th>2</th>\n",
       "      <td>10941976</td>\n",
       "      <td>NaN</td>\n",
       "      <td>NaN</td>\n",
       "      <td>NaN</td>\n",
       "      <td>1762.54</td>\n",
       "      <td>1762.54</td>\n",
       "      <td>2022-07-28</td>\n",
       "      <td>3.0</td>\n",
       "      <td>0.0</td>\n",
       "      <td>808.0</td>\n",
       "      <td>...</td>\n",
       "      <td>2022-05-30</td>\n",
       "      <td>NaN</td>\n",
       "      <td>92900.0</td>\n",
       "      <td>3333.333333</td>\n",
       "      <td>20000.0</td>\n",
       "      <td>6.0</td>\n",
       "      <td>1000.0</td>\n",
       "      <td>0.0</td>\n",
       "      <td>0.0</td>\n",
       "      <td>0.375597</td>\n",
       "    </tr>\n",
       "    <tr>\n",
       "      <th>3</th>\n",
       "      <td>10782539</td>\n",
       "      <td>NaN</td>\n",
       "      <td>NaN</td>\n",
       "      <td>NaN</td>\n",
       "      <td>3723.60</td>\n",
       "      <td>3723.60</td>\n",
       "      <td>2021-08-31</td>\n",
       "      <td>5.0</td>\n",
       "      <td>0.0</td>\n",
       "      <td>0.0</td>\n",
       "      <td>...</td>\n",
       "      <td>2019-07-18</td>\n",
       "      <td>2021-09-25 14:09:25.7650000</td>\n",
       "      <td>173800.0</td>\n",
       "      <td>5720.000000</td>\n",
       "      <td>34320.0</td>\n",
       "      <td>6.0</td>\n",
       "      <td>5000.0</td>\n",
       "      <td>1.0</td>\n",
       "      <td>0.0</td>\n",
       "      <td>0.773472</td>\n",
       "    </tr>\n",
       "    <tr>\n",
       "      <th>4</th>\n",
       "      <td>10916477</td>\n",
       "      <td>NaN</td>\n",
       "      <td>NaN</td>\n",
       "      <td>NaN</td>\n",
       "      <td>2478.72</td>\n",
       "      <td>0.00</td>\n",
       "      <td>2022-03-31</td>\n",
       "      <td>0.0</td>\n",
       "      <td>0.0</td>\n",
       "      <td>0.0</td>\n",
       "      <td>...</td>\n",
       "      <td>2022-01-10</td>\n",
       "      <td>2022-04-16 00:02:41.8644000</td>\n",
       "      <td>240200.0</td>\n",
       "      <td>6286.666666</td>\n",
       "      <td>37720.0</td>\n",
       "      <td>6.0</td>\n",
       "      <td>5000.0</td>\n",
       "      <td>0.0</td>\n",
       "      <td>0.0</td>\n",
       "      <td>0.278507</td>\n",
       "    </tr>\n",
       "  </tbody>\n",
       "</table>\n",
       "<p>5 rows × 45 columns</p>\n",
       "</div>"
      ],
      "text/plain": [
       "   PolicyId  ClaimId   SumTotalClaimAmount  CountTotalClaimAmount  PremiumSum  \\\n",
       "0  10806273       NaN                  NaN                    NaN     4915.98   \n",
       "1  10822247       NaN                  NaN                    NaN     3342.60   \n",
       "2  10941976       NaN                  NaN                    NaN     1762.54   \n",
       "3  10782539       NaN                  NaN                    NaN     3723.60   \n",
       "4  10916477       NaN                  NaN                    NaN     2478.72   \n",
       "\n",
       "   CasePremiumSum PaymentDueDate  TotalPremiumPaymentCount  \\\n",
       "0         4369.76     2021-12-29                       8.0   \n",
       "1          668.52     2020-09-30                       1.0   \n",
       "2         1762.54     2022-07-28                       3.0   \n",
       "3         3723.60     2021-08-31                       5.0   \n",
       "4            0.00     2022-03-31                       0.0   \n",
       "\n",
       "   PreviousInsurerExcess  PreviousInsurerPremium  ... CommencementDt  \\\n",
       "0                    0.0                     0.0  ...     2020-01-06   \n",
       "1                 4500.0                   900.0  ...     2020-05-18   \n",
       "2                    0.0                   808.0  ...     2022-05-30   \n",
       "3                    0.0                     0.0  ...     2019-07-18   \n",
       "4                    0.0                     0.0  ...     2022-01-10   \n",
       "\n",
       "                 PolicyEndDate SumAssured   MeanExcess TotalExcess  \\\n",
       "0  2021-12-29 14:46:25.4847000    45700.0  3166.666666     19000.0   \n",
       "1  2020-10-16 00:00:44.0122000   113100.0  4500.000000      9000.0   \n",
       "2                          NaN    92900.0  3333.333333     20000.0   \n",
       "3  2021-09-25 14:09:25.7650000   173800.0  5720.000000     34320.0   \n",
       "4  2022-04-16 00:02:41.8644000   240200.0  6286.666666     37720.0   \n",
       "\n",
       "  ExcessTypesCount BaseExcess NomimatedDriversCount  \\\n",
       "0              6.0     1000.0                   2.0   \n",
       "1              2.0     5000.0                   1.0   \n",
       "2              6.0     1000.0                   0.0   \n",
       "3              6.0     5000.0                   1.0   \n",
       "4              6.0     5000.0                   0.0   \n",
       "\n",
       "  NomimatedDriversUnder30Count 0.5865768182345752  \n",
       "0                          1.0           0.376611  \n",
       "1                          1.0           0.788738  \n",
       "2                          0.0           0.375597  \n",
       "3                          0.0           0.773472  \n",
       "4                          0.0           0.278507  \n",
       "\n",
       "[5 rows x 45 columns]"
      ]
     },
     "execution_count": 4,
     "metadata": {},
     "output_type": "execute_result"
    }
   ],
   "source": [
    "df.head()"
   ]
  },
  {
   "cell_type": "code",
   "execution_count": 5,
   "id": "bc06c232",
   "metadata": {},
   "outputs": [
    {
     "data": {
      "text/plain": [
       "['PolicyId',\n",
       " 'ClaimId ',\n",
       " 'SumTotalClaimAmount',\n",
       " 'CountTotalClaimAmount',\n",
       " 'PremiumSum',\n",
       " 'CasePremiumSum',\n",
       " 'PaymentDueDate',\n",
       " 'TotalPremiumPaymentCount',\n",
       " 'PreviousInsurerExcess',\n",
       " 'PreviousInsurerPremium',\n",
       " 'EmploymentType',\n",
       " 'IsMemberPayer',\n",
       " 'Employer',\n",
       " 'Occupation',\n",
       " 'IndustryType',\n",
       " 'Gender',\n",
       " 'BirthDt',\n",
       " 'MaritalStatus',\n",
       " 'Make',\n",
       " 'Model',\n",
       " 'Colour',\n",
       " 'Transmission',\n",
       " 'VehicleType',\n",
       " 'BodyType',\n",
       " 'CubicCapacity',\n",
       " 'Cyl',\n",
       " 'Kilowatts',\n",
       " 'VehicleYear',\n",
       " 'PolicyMainDriverAnnualMileage',\n",
       " 'PolicyMainDriverLicenseDurationRange',\n",
       " 'PersonProvince',\n",
       " 'Area',\n",
       " 'MonthsSinceInception',\n",
       " 'DaysSinceInception',\n",
       " 'PolicyStatus',\n",
       " 'CommencementDt',\n",
       " 'PolicyEndDate',\n",
       " 'SumAssured',\n",
       " 'MeanExcess',\n",
       " 'TotalExcess',\n",
       " 'ExcessTypesCount',\n",
       " 'BaseExcess',\n",
       " 'NomimatedDriversCount',\n",
       " 'NomimatedDriversUnder30Count',\n",
       " '0.5865768182345752']"
      ]
     },
     "execution_count": 5,
     "metadata": {},
     "output_type": "execute_result"
    }
   ],
   "source": [
    "df.columns.values.tolist()"
   ]
  },
  {
   "cell_type": "code",
   "execution_count": 6,
   "id": "6a2cccdb",
   "metadata": {},
   "outputs": [
    {
     "data": {
      "text/plain": [
       "(262990, 45)"
      ]
     },
     "execution_count": 6,
     "metadata": {},
     "output_type": "execute_result"
    }
   ],
   "source": [
    "df.shape"
   ]
  },
  {
   "cell_type": "code",
   "execution_count": 8,
   "id": "a0a99232",
   "metadata": {},
   "outputs": [
    {
     "name": "stdout",
     "output_type": "stream",
     "text": [
      "<class 'pandas.core.frame.DataFrame'>\n",
      "RangeIndex: 262990 entries, 0 to 262989\n",
      "Data columns (total 45 columns):\n",
      " #   Column                                Non-Null Count   Dtype  \n",
      "---  ------                                --------------   -----  \n",
      " 0   PolicyId                              262990 non-null  int64  \n",
      " 1   ClaimId                               27478 non-null   float64\n",
      " 2   SumTotalClaimAmount                   27392 non-null   float64\n",
      " 3   CountTotalClaimAmount                 27478 non-null   float64\n",
      " 4   PremiumSum                            262750 non-null  float64\n",
      " 5   CasePremiumSum                        262750 non-null  float64\n",
      " 6   PaymentDueDate                        262750 non-null  object \n",
      " 7   TotalPremiumPaymentCount              262750 non-null  float64\n",
      " 8   PreviousInsurerExcess                 262963 non-null  float64\n",
      " 9   PreviousInsurerPremium                262961 non-null  float64\n",
      " 10  EmploymentType                        260334 non-null  object \n",
      " 11  IsMemberPayer                         262990 non-null  int64  \n",
      " 12  Employer                              7286 non-null    object \n",
      " 13  Occupation                            260744 non-null  object \n",
      " 14  IndustryType                          258859 non-null  object \n",
      " 15  Gender                                262982 non-null  object \n",
      " 16  BirthDt                               262984 non-null  object \n",
      " 17  MaritalStatus                         262984 non-null  object \n",
      " 18  Make                                  262984 non-null  object \n",
      " 19  Model                                 262984 non-null  object \n",
      " 20  Colour                                262984 non-null  object \n",
      " 21  Transmission                          262984 non-null  object \n",
      " 22  VehicleType                           262984 non-null  object \n",
      " 23  BodyType                              262984 non-null  object \n",
      " 24  CubicCapacity                         262984 non-null  float64\n",
      " 25  Cyl                                   262984 non-null  float64\n",
      " 26  Kilowatts                             262984 non-null  float64\n",
      " 27  VehicleYear                           262984 non-null  float64\n",
      " 28  PolicyMainDriverAnnualMileage         262984 non-null  object \n",
      " 29  PolicyMainDriverLicenseDurationRange  262984 non-null  object \n",
      " 30  PersonProvince                        262984 non-null  object \n",
      " 31  Area                                  195887 non-null  object \n",
      " 32  MonthsSinceInception                  134794 non-null  float64\n",
      " 33  DaysSinceInception                    134794 non-null  float64\n",
      " 34  PolicyStatus                          262984 non-null  object \n",
      " 35  CommencementDt                        262984 non-null  object \n",
      " 36  PolicyEndDate                         134794 non-null  object \n",
      " 37  SumAssured                            220932 non-null  float64\n",
      " 38  MeanExcess                            262984 non-null  float64\n",
      " 39  TotalExcess                           262984 non-null  float64\n",
      " 40  ExcessTypesCount                      262984 non-null  float64\n",
      " 41  BaseExcess                            262984 non-null  float64\n",
      " 42  NomimatedDriversCount                 262984 non-null  float64\n",
      " 43  NomimatedDriversUnder30Count          262984 non-null  float64\n",
      " 44  0.5865768182345752                    262990 non-null  float64\n",
      "dtypes: float64(22), int64(2), object(21)\n",
      "memory usage: 90.3+ MB\n"
     ]
    }
   ],
   "source": [
    "df.info()"
   ]
  },
  {
   "cell_type": "code",
   "execution_count": 9,
   "id": "a19d154b",
   "metadata": {},
   "outputs": [
    {
     "data": {
      "text/plain": [
       "PolicyId                                     0\n",
       "ClaimId                                 235512\n",
       "SumTotalClaimAmount                     235598\n",
       "CountTotalClaimAmount                   235512\n",
       "PremiumSum                                 240\n",
       "CasePremiumSum                             240\n",
       "PaymentDueDate                             240\n",
       "TotalPremiumPaymentCount                   240\n",
       "PreviousInsurerExcess                       27\n",
       "PreviousInsurerPremium                      29\n",
       "EmploymentType                            2656\n",
       "IsMemberPayer                                0\n",
       "Employer                                255704\n",
       "Occupation                                2246\n",
       "IndustryType                              4131\n",
       "Gender                                       8\n",
       "BirthDt                                      6\n",
       "MaritalStatus                                6\n",
       "Make                                         6\n",
       "Model                                        6\n",
       "Colour                                       6\n",
       "Transmission                                 6\n",
       "VehicleType                                  6\n",
       "BodyType                                     6\n",
       "CubicCapacity                                6\n",
       "Cyl                                          6\n",
       "Kilowatts                                    6\n",
       "VehicleYear                                  6\n",
       "PolicyMainDriverAnnualMileage                6\n",
       "PolicyMainDriverLicenseDurationRange         6\n",
       "PersonProvince                               6\n",
       "Area                                     67103\n",
       "MonthsSinceInception                    128196\n",
       "DaysSinceInception                      128196\n",
       "PolicyStatus                                 6\n",
       "CommencementDt                               6\n",
       "PolicyEndDate                           128196\n",
       "SumAssured                               42058\n",
       "MeanExcess                                   6\n",
       "TotalExcess                                  6\n",
       "ExcessTypesCount                             6\n",
       "BaseExcess                                   6\n",
       "NomimatedDriversCount                        6\n",
       "NomimatedDriversUnder30Count                 6\n",
       "0.5865768182345752                           0\n",
       "dtype: int64"
      ]
     },
     "execution_count": 9,
     "metadata": {},
     "output_type": "execute_result"
    }
   ],
   "source": [
    "df.isnull().sum()"
   ]
  },
  {
   "cell_type": "code",
   "execution_count": 21,
   "id": "bb737931",
   "metadata": {},
   "outputs": [],
   "source": [
    "\n",
    "df['SumTotalClaimAmount']=df['SumTotalClaimAmount'].fillna(df['SumTotalClaimAmount'].mean())\n",
    "df['CountTotalClaimAmount']=df['CountTotalClaimAmount'].fillna(df['CountTotalClaimAmount'].mean())\n",
    "df['PremiumSum']=df['PremiumSum'].fillna(df['PremiumSum'].mean())\n",
    "df['CasePremiumSum']=df['CasePremiumSum'].fillna(df['CasePremiumSum'].mean())\n",
    "df['PaymentDueDate']=df['PaymentDueDate'].fillna(df['PaymentDueDate'].mode()[0])\n",
    "df['TotalPremiumPaymentCount']=df['TotalPremiumPaymentCount'].fillna(df['TotalPremiumPaymentCount'].mean())\n",
    "df['PreviousInsurerExcess']=df['PreviousInsurerExcess'].fillna(df['PreviousInsurerExcess'].mode()[0])\n",
    "df['PreviousInsurerPremium']=df['PreviousInsurerPremium'].fillna(df['PreviousInsurerPremium'].mean())\n",
    "df['EmploymentType']=df['EmploymentType'].fillna(df['EmploymentType'].mode()[0])\n",
    "df['Employer']=df['Employer'].fillna(df['Employer'].mode()[0])\n",
    "df['Occupation']=df['Occupation'].fillna(df['Occupation'].mode()[0])\n",
    "df['IndustryType']=df['IndustryType'].fillna(df['IndustryType'].mode()[0])\n",
    "df['Gender']=df['Gender'].fillna(df['Gender'].mode()[0])\n",
    "df['BirthDt']=df['BirthDt'].fillna(df['BirthDt'].mode()[0])\n",
    "df['MaritalStatus']=df['MaritalStatus'].fillna(df['MaritalStatus'].mode()[0])\n",
    "df['Make']=df['Make'].fillna(df['Make'].mode()[0])\n",
    "df['Model']=df['Model'].fillna(df['Model'].mode()[0])\n",
    "df['Colour']=df['Colour'].fillna(df['Colour'].mode()[0])\n",
    "df['Transmission']=df['Transmission'].fillna(df['Transmission'].mode()[0])\n",
    "df['VehicleType']=df['VehicleType'].fillna(df['VehicleType'].mode()[0])\n",
    "df['BodyType']=df['BodyType'].fillna(df['BodyType'].mode()[0])\n",
    "df['CubicCapacity']=df['CubicCapacity'].fillna(df['CubicCapacity'].mean())\n",
    "df['Cyl']=df['Cyl'].fillna(df['Cyl'].mean())\n",
    "df['Kilowatts']=df['Kilowatts'].fillna(df['Kilowatts'].mean())\n",
    "df['VehicleYear']=df['VehicleYear'].fillna(df['VehicleYear'].mean())\n",
    "df['PolicyMainDriverAnnualMileage']=df['PolicyMainDriverAnnualMileage'].fillna(df['PolicyMainDriverAnnualMileage'].mode()[0])\n",
    "df['PolicyMainDriverLicenseDurationRange']=df['PolicyMainDriverLicenseDurationRange'].fillna(df['PolicyMainDriverLicenseDurationRange'].mode()[0])\n",
    "df['PersonProvince']=df['PersonProvince'].fillna(df['PersonProvince'].mode()[0])\n",
    "df['Area']=df['Area'].fillna(df['Area'].mode()[0])\n",
    "df['MonthsSinceInception']=df['MonthsSinceInception'].fillna(df['MonthsSinceInception'].mean())\n",
    "df['DaysSinceInception']=df['DaysSinceInception'].fillna(df['DaysSinceInception'].mean())\n",
    "df['PolicyStatus']=df['PolicyStatus'].fillna(df['PolicyStatus'].mode()[0])\n",
    "df['CommencementDt']=df['CommencementDt'].fillna(df['CommencementDt'].mode()[0])\n",
    "df['PolicyEndDate']=df['PolicyEndDate'].fillna(df['PolicyEndDate'].mode()[0])\n",
    "df['SumAssured']=df['SumAssured'].fillna(df['SumAssured'].mean())\n",
    "df['MeanExcess']=df['MeanExcess'].fillna(df['MeanExcess'].mean())\n",
    "df['TotalExcess']=df['TotalExcess'].fillna(df['TotalExcess'].mean())\n",
    "df['ExcessTypesCount']=df['ExcessTypesCount'].fillna(df['ExcessTypesCount'].mean())\n",
    "df['BaseExcess']=df['BaseExcess'].fillna(df['BaseExcess'].mean())\n",
    "df['NomimatedDriversCount']=df['NomimatedDriversCount'].fillna(df['NomimatedDriversCount'].mean())\n",
    "df['NomimatedDriversUnder30Count']=df['NomimatedDriversUnder30Count'].fillna(df['NomimatedDriversUnder30Count'].mean())"
   ]
  },
  {
   "cell_type": "code",
   "execution_count": 22,
   "id": "d57a092d",
   "metadata": {},
   "outputs": [
    {
     "data": {
      "text/plain": [
       "PolicyId                                     0\n",
       "ClaimId                                 235512\n",
       "SumTotalClaimAmount                          0\n",
       "CountTotalClaimAmount                        0\n",
       "PremiumSum                                   0\n",
       "CasePremiumSum                               0\n",
       "PaymentDueDate                               0\n",
       "TotalPremiumPaymentCount                     0\n",
       "PreviousInsurerExcess                        0\n",
       "PreviousInsurerPremium                       0\n",
       "EmploymentType                               0\n",
       "IsMemberPayer                                0\n",
       "Employer                                     0\n",
       "Occupation                                   0\n",
       "IndustryType                                 0\n",
       "Gender                                       0\n",
       "BirthDt                                      0\n",
       "MaritalStatus                                0\n",
       "Make                                         0\n",
       "Model                                        0\n",
       "Colour                                       0\n",
       "Transmission                                 0\n",
       "VehicleType                                  0\n",
       "BodyType                                     0\n",
       "CubicCapacity                                0\n",
       "Cyl                                          0\n",
       "Kilowatts                                    0\n",
       "VehicleYear                                  0\n",
       "PolicyMainDriverAnnualMileage                0\n",
       "PolicyMainDriverLicenseDurationRange         0\n",
       "PersonProvince                               0\n",
       "Area                                         0\n",
       "MonthsSinceInception                         0\n",
       "DaysSinceInception                           0\n",
       "PolicyStatus                                 0\n",
       "CommencementDt                               0\n",
       "PolicyEndDate                                0\n",
       "SumAssured                                   0\n",
       "MeanExcess                                   0\n",
       "TotalExcess                                  0\n",
       "ExcessTypesCount                             0\n",
       "BaseExcess                                   0\n",
       "NomimatedDriversCount                        0\n",
       "NomimatedDriversUnder30Count                 0\n",
       "0.5865768182345752                           0\n",
       "dtype: int64"
      ]
     },
     "execution_count": 22,
     "metadata": {},
     "output_type": "execute_result"
    }
   ],
   "source": [
    "df.isnull().sum()"
   ]
  },
  {
   "cell_type": "code",
   "execution_count": 25,
   "id": "035d0362",
   "metadata": {},
   "outputs": [
    {
     "data": {
      "text/html": [
       "<div>\n",
       "<style scoped>\n",
       "    .dataframe tbody tr th:only-of-type {\n",
       "        vertical-align: middle;\n",
       "    }\n",
       "\n",
       "    .dataframe tbody tr th {\n",
       "        vertical-align: top;\n",
       "    }\n",
       "\n",
       "    .dataframe thead th {\n",
       "        text-align: right;\n",
       "    }\n",
       "</style>\n",
       "<table border=\"1\" class=\"dataframe\">\n",
       "  <thead>\n",
       "    <tr style=\"text-align: right;\">\n",
       "      <th></th>\n",
       "      <th>PolicyId</th>\n",
       "      <th>ClaimId</th>\n",
       "      <th>SumTotalClaimAmount</th>\n",
       "      <th>CountTotalClaimAmount</th>\n",
       "      <th>PremiumSum</th>\n",
       "      <th>CasePremiumSum</th>\n",
       "      <th>TotalPremiumPaymentCount</th>\n",
       "      <th>PreviousInsurerExcess</th>\n",
       "      <th>PreviousInsurerPremium</th>\n",
       "      <th>IsMemberPayer</th>\n",
       "      <th>...</th>\n",
       "      <th>MonthsSinceInception</th>\n",
       "      <th>DaysSinceInception</th>\n",
       "      <th>SumAssured</th>\n",
       "      <th>MeanExcess</th>\n",
       "      <th>TotalExcess</th>\n",
       "      <th>ExcessTypesCount</th>\n",
       "      <th>BaseExcess</th>\n",
       "      <th>NomimatedDriversCount</th>\n",
       "      <th>NomimatedDriversUnder30Count</th>\n",
       "      <th>0.5865768182345752</th>\n",
       "    </tr>\n",
       "  </thead>\n",
       "  <tbody>\n",
       "    <tr>\n",
       "      <th>count</th>\n",
       "      <td>2.629900e+05</td>\n",
       "      <td>2.747800e+04</td>\n",
       "      <td>2.629900e+05</td>\n",
       "      <td>262990.000000</td>\n",
       "      <td>262990.000000</td>\n",
       "      <td>262990.000000</td>\n",
       "      <td>262990.000000</td>\n",
       "      <td>262990.000000</td>\n",
       "      <td>262990.000000</td>\n",
       "      <td>262990.000000</td>\n",
       "      <td>...</td>\n",
       "      <td>262990.000000</td>\n",
       "      <td>262990.000000</td>\n",
       "      <td>262990.000000</td>\n",
       "      <td>262990.000000</td>\n",
       "      <td>262990.000000</td>\n",
       "      <td>262990.000000</td>\n",
       "      <td>262990.000000</td>\n",
       "      <td>262990.000000</td>\n",
       "      <td>262990.000000</td>\n",
       "      <td>262990.000000</td>\n",
       "    </tr>\n",
       "    <tr>\n",
       "      <th>mean</th>\n",
       "      <td>1.084961e+07</td>\n",
       "      <td>1.010507e+07</td>\n",
       "      <td>4.059307e+04</td>\n",
       "      <td>1.256787</td>\n",
       "      <td>4589.583025</td>\n",
       "      <td>3709.207406</td>\n",
       "      <td>4.623604</td>\n",
       "      <td>2922.833685</td>\n",
       "      <td>576.783245</td>\n",
       "      <td>0.966215</td>\n",
       "      <td>...</td>\n",
       "      <td>9.912296</td>\n",
       "      <td>301.412185</td>\n",
       "      <td>159453.781163</td>\n",
       "      <td>5333.198818</td>\n",
       "      <td>27247.588710</td>\n",
       "      <td>5.023975</td>\n",
       "      <td>4612.811216</td>\n",
       "      <td>0.546828</td>\n",
       "      <td>0.103584</td>\n",
       "      <td>0.499262</td>\n",
       "    </tr>\n",
       "    <tr>\n",
       "      <th>std</th>\n",
       "      <td>5.172066e+04</td>\n",
       "      <td>1.506996e+04</td>\n",
       "      <td>2.104615e+04</td>\n",
       "      <td>0.185731</td>\n",
       "      <td>3537.019534</td>\n",
       "      <td>3716.810676</td>\n",
       "      <td>4.064817</td>\n",
       "      <td>6031.062454</td>\n",
       "      <td>654.826597</td>\n",
       "      <td>0.180675</td>\n",
       "      <td>...</td>\n",
       "      <td>5.988077</td>\n",
       "      <td>182.508127</td>\n",
       "      <td>66914.678807</td>\n",
       "      <td>1713.971710</td>\n",
       "      <td>12593.714337</td>\n",
       "      <td>1.729169</td>\n",
       "      <td>2135.034696</td>\n",
       "      <td>0.725445</td>\n",
       "      <td>0.337484</td>\n",
       "      <td>0.288742</td>\n",
       "    </tr>\n",
       "    <tr>\n",
       "      <th>min</th>\n",
       "      <td>1.076784e+07</td>\n",
       "      <td>1.007378e+07</td>\n",
       "      <td>0.000000e+00</td>\n",
       "      <td>0.000000</td>\n",
       "      <td>0.000000</td>\n",
       "      <td>0.000000</td>\n",
       "      <td>0.000000</td>\n",
       "      <td>-1.000000</td>\n",
       "      <td>-1700.000000</td>\n",
       "      <td>0.000000</td>\n",
       "      <td>...</td>\n",
       "      <td>-2.000000</td>\n",
       "      <td>-51.000000</td>\n",
       "      <td>30000.000000</td>\n",
       "      <td>0.000000</td>\n",
       "      <td>0.000000</td>\n",
       "      <td>1.000000</td>\n",
       "      <td>0.000000</td>\n",
       "      <td>0.000000</td>\n",
       "      <td>0.000000</td>\n",
       "      <td>0.000003</td>\n",
       "    </tr>\n",
       "    <tr>\n",
       "      <th>25%</th>\n",
       "      <td>1.080422e+07</td>\n",
       "      <td>1.009240e+07</td>\n",
       "      <td>4.059307e+04</td>\n",
       "      <td>1.256787</td>\n",
       "      <td>1989.442500</td>\n",
       "      <td>720.747500</td>\n",
       "      <td>1.000000</td>\n",
       "      <td>0.000000</td>\n",
       "      <td>0.000000</td>\n",
       "      <td>1.000000</td>\n",
       "      <td>...</td>\n",
       "      <td>6.000000</td>\n",
       "      <td>195.000000</td>\n",
       "      <td>118200.000000</td>\n",
       "      <td>4210.000000</td>\n",
       "      <td>22000.000000</td>\n",
       "      <td>4.000000</td>\n",
       "      <td>4000.000000</td>\n",
       "      <td>0.000000</td>\n",
       "      <td>0.000000</td>\n",
       "      <td>0.249055</td>\n",
       "    </tr>\n",
       "    <tr>\n",
       "      <th>50%</th>\n",
       "      <td>1.084769e+07</td>\n",
       "      <td>1.010566e+07</td>\n",
       "      <td>4.059307e+04</td>\n",
       "      <td>1.256787</td>\n",
       "      <td>3570.120000</td>\n",
       "      <td>2746.780000</td>\n",
       "      <td>4.000000</td>\n",
       "      <td>0.000000</td>\n",
       "      <td>459.000000</td>\n",
       "      <td>1.000000</td>\n",
       "      <td>...</td>\n",
       "      <td>9.912296</td>\n",
       "      <td>301.412185</td>\n",
       "      <td>159453.781163</td>\n",
       "      <td>5000.000000</td>\n",
       "      <td>27270.000000</td>\n",
       "      <td>6.000000</td>\n",
       "      <td>5000.000000</td>\n",
       "      <td>0.000000</td>\n",
       "      <td>0.000000</td>\n",
       "      <td>0.499050</td>\n",
       "    </tr>\n",
       "    <tr>\n",
       "      <th>75%</th>\n",
       "      <td>1.089272e+07</td>\n",
       "      <td>1.011831e+07</td>\n",
       "      <td>4.059307e+04</td>\n",
       "      <td>1.256787</td>\n",
       "      <td>6347.867500</td>\n",
       "      <td>5616.300000</td>\n",
       "      <td>7.000000</td>\n",
       "      <td>5000.000000</td>\n",
       "      <td>1070.000000</td>\n",
       "      <td>1.000000</td>\n",
       "      <td>...</td>\n",
       "      <td>9.912296</td>\n",
       "      <td>301.412185</td>\n",
       "      <td>180600.000000</td>\n",
       "      <td>6196.666666</td>\n",
       "      <td>34770.000000</td>\n",
       "      <td>6.000000</td>\n",
       "      <td>5000.000000</td>\n",
       "      <td>1.000000</td>\n",
       "      <td>0.000000</td>\n",
       "      <td>0.748897</td>\n",
       "    </tr>\n",
       "    <tr>\n",
       "      <th>max</th>\n",
       "      <td>1.095790e+07</td>\n",
       "      <td>1.012987e+07</td>\n",
       "      <td>1.754000e+06</td>\n",
       "      <td>9.000000</td>\n",
       "      <td>41822.550000</td>\n",
       "      <td>41822.550000</td>\n",
       "      <td>14.000000</td>\n",
       "      <td>800000.000000</td>\n",
       "      <td>23000.000000</td>\n",
       "      <td>1.000000</td>\n",
       "      <td>...</td>\n",
       "      <td>40.000000</td>\n",
       "      <td>1232.000000</td>\n",
       "      <td>515000.000000</td>\n",
       "      <td>91500.000000</td>\n",
       "      <td>129620.000000</td>\n",
       "      <td>7.000000</td>\n",
       "      <td>91500.000000</td>\n",
       "      <td>9.000000</td>\n",
       "      <td>7.000000</td>\n",
       "      <td>0.999995</td>\n",
       "    </tr>\n",
       "  </tbody>\n",
       "</table>\n",
       "<p>8 rows × 24 columns</p>\n",
       "</div>"
      ],
      "text/plain": [
       "           PolicyId      ClaimId   SumTotalClaimAmount  CountTotalClaimAmount  \\\n",
       "count  2.629900e+05  2.747800e+04         2.629900e+05          262990.000000   \n",
       "mean   1.084961e+07  1.010507e+07         4.059307e+04               1.256787   \n",
       "std    5.172066e+04  1.506996e+04         2.104615e+04               0.185731   \n",
       "min    1.076784e+07  1.007378e+07         0.000000e+00               0.000000   \n",
       "25%    1.080422e+07  1.009240e+07         4.059307e+04               1.256787   \n",
       "50%    1.084769e+07  1.010566e+07         4.059307e+04               1.256787   \n",
       "75%    1.089272e+07  1.011831e+07         4.059307e+04               1.256787   \n",
       "max    1.095790e+07  1.012987e+07         1.754000e+06               9.000000   \n",
       "\n",
       "          PremiumSum  CasePremiumSum  TotalPremiumPaymentCount  \\\n",
       "count  262990.000000   262990.000000             262990.000000   \n",
       "mean     4589.583025     3709.207406                  4.623604   \n",
       "std      3537.019534     3716.810676                  4.064817   \n",
       "min         0.000000        0.000000                  0.000000   \n",
       "25%      1989.442500      720.747500                  1.000000   \n",
       "50%      3570.120000     2746.780000                  4.000000   \n",
       "75%      6347.867500     5616.300000                  7.000000   \n",
       "max     41822.550000    41822.550000                 14.000000   \n",
       "\n",
       "       PreviousInsurerExcess  PreviousInsurerPremium  IsMemberPayer  ...  \\\n",
       "count          262990.000000           262990.000000  262990.000000  ...   \n",
       "mean             2922.833685              576.783245       0.966215  ...   \n",
       "std              6031.062454              654.826597       0.180675  ...   \n",
       "min                -1.000000            -1700.000000       0.000000  ...   \n",
       "25%                 0.000000                0.000000       1.000000  ...   \n",
       "50%                 0.000000              459.000000       1.000000  ...   \n",
       "75%              5000.000000             1070.000000       1.000000  ...   \n",
       "max            800000.000000            23000.000000       1.000000  ...   \n",
       "\n",
       "       MonthsSinceInception  DaysSinceInception     SumAssured     MeanExcess  \\\n",
       "count         262990.000000       262990.000000  262990.000000  262990.000000   \n",
       "mean               9.912296          301.412185  159453.781163    5333.198818   \n",
       "std                5.988077          182.508127   66914.678807    1713.971710   \n",
       "min               -2.000000          -51.000000   30000.000000       0.000000   \n",
       "25%                6.000000          195.000000  118200.000000    4210.000000   \n",
       "50%                9.912296          301.412185  159453.781163    5000.000000   \n",
       "75%                9.912296          301.412185  180600.000000    6196.666666   \n",
       "max               40.000000         1232.000000  515000.000000   91500.000000   \n",
       "\n",
       "         TotalExcess  ExcessTypesCount     BaseExcess  NomimatedDriversCount  \\\n",
       "count  262990.000000     262990.000000  262990.000000          262990.000000   \n",
       "mean    27247.588710          5.023975    4612.811216               0.546828   \n",
       "std     12593.714337          1.729169    2135.034696               0.725445   \n",
       "min         0.000000          1.000000       0.000000               0.000000   \n",
       "25%     22000.000000          4.000000    4000.000000               0.000000   \n",
       "50%     27270.000000          6.000000    5000.000000               0.000000   \n",
       "75%     34770.000000          6.000000    5000.000000               1.000000   \n",
       "max    129620.000000          7.000000   91500.000000               9.000000   \n",
       "\n",
       "       NomimatedDriversUnder30Count  0.5865768182345752  \n",
       "count                 262990.000000       262990.000000  \n",
       "mean                       0.103584            0.499262  \n",
       "std                        0.337484            0.288742  \n",
       "min                        0.000000            0.000003  \n",
       "25%                        0.000000            0.249055  \n",
       "50%                        0.000000            0.499050  \n",
       "75%                        0.000000            0.748897  \n",
       "max                        7.000000            0.999995  \n",
       "\n",
       "[8 rows x 24 columns]"
      ]
     },
     "execution_count": 25,
     "metadata": {},
     "output_type": "execute_result"
    }
   ],
   "source": [
    "df.describe()"
   ]
  },
  {
   "cell_type": "code",
   "execution_count": 29,
   "id": "969a0235",
   "metadata": {},
   "outputs": [
    {
     "data": {
      "text/plain": [
       "262990"
      ]
     },
     "execution_count": 29,
     "metadata": {},
     "output_type": "execute_result"
    }
   ],
   "source": [
    "df.CountTotalClaimAmount.count()"
   ]
  },
  {
   "cell_type": "markdown",
   "id": "0f43426f",
   "metadata": {},
   "source": [
    "## EXPLORATORY DATA ANALYSIS"
   ]
  },
  {
   "cell_type": "code",
   "execution_count": 26,
   "id": "2604e015",
   "metadata": {},
   "outputs": [],
   "source": [
    "import numpy as np\n",
    "import pandas as pd\n",
    "import matplotlib.pyplot as plt\n",
    "import seaborn as sns"
   ]
  },
  {
   "cell_type": "code",
   "execution_count": 27,
   "id": "1f7bd952",
   "metadata": {},
   "outputs": [
    {
     "data": {
      "text/plain": [
       "Text(0.5, 1.0, 'Gender vs Charges')"
      ]
     },
     "execution_count": 27,
     "metadata": {},
     "output_type": "execute_result"
    },
    {
     "data": {
      "image/png": "[encoded data removed]",
      "text/plain": [
       "<Figure size 864x576 with 1 Axes>"
      ]
     },
     "metadata": {
      "needs_background": "light"
     },
     "output_type": "display_data"
    }
   ],
   "source": [
    "plt.figure(figsize = (12, 8))\n",
    "sns.barplot(x = 'Gender', y = 'SumTotalClaimAmount', data = df)\n",
    "plt.title('Gender vs Charges')"
   ]
  },
  {
   "cell_type": "code",
   "execution_count": 35,
   "id": "0fd2bedd",
   "metadata": {},
   "outputs": [],
   "source": [
    "from datetime import datetime, date\n",
    "\n",
    "df['BirthDt'] = pd.to_datetime(df['BirthDt'], errors='coerce')\n",
    "  \n",
    "now = pd.to_datetime('now')\n",
    "now\n",
    "df['Age'] = (now - df['BirthDt']).astype('<m8[Y]') "
   ]
  },
  {
   "cell_type": "code",
   "execution_count": 36,
   "id": "31d8147c",
   "metadata": {},
   "outputs": [
    {
     "data": {
      "text/html": [
       "<div>\n",
       "<style scoped>\n",
       "    .dataframe tbody tr th:only-of-type {\n",
       "        vertical-align: middle;\n",
       "    }\n",
       "\n",
       "    .dataframe tbody tr th {\n",
       "        vertical-align: top;\n",
       "    }\n",
       "\n",
       "    .dataframe thead th {\n",
       "        text-align: right;\n",
       "    }\n",
       "</style>\n",
       "<table border=\"1\" class=\"dataframe\">\n",
       "  <thead>\n",
       "    <tr style=\"text-align: right;\">\n",
       "      <th></th>\n",
       "      <th>PolicyId</th>\n",
       "      <th>ClaimId</th>\n",
       "      <th>SumTotalClaimAmount</th>\n",
       "      <th>CountTotalClaimAmount</th>\n",
       "      <th>PremiumSum</th>\n",
       "      <th>CasePremiumSum</th>\n",
       "      <th>PaymentDueDate</th>\n",
       "      <th>TotalPremiumPaymentCount</th>\n",
       "      <th>PreviousInsurerExcess</th>\n",
       "      <th>PreviousInsurerPremium</th>\n",
       "      <th>...</th>\n",
       "      <th>PolicyEndDate</th>\n",
       "      <th>SumAssured</th>\n",
       "      <th>MeanExcess</th>\n",
       "      <th>TotalExcess</th>\n",
       "      <th>ExcessTypesCount</th>\n",
       "      <th>BaseExcess</th>\n",
       "      <th>NomimatedDriversCount</th>\n",
       "      <th>NomimatedDriversUnder30Count</th>\n",
       "      <th>0.5865768182345752</th>\n",
       "      <th>Age</th>\n",
       "    </tr>\n",
       "  </thead>\n",
       "  <tbody>\n",
       "    <tr>\n",
       "      <th>0</th>\n",
       "      <td>10806273</td>\n",
       "      <td>NaN</td>\n",
       "      <td>40593.069535</td>\n",
       "      <td>1.256787</td>\n",
       "      <td>4915.98</td>\n",
       "      <td>4369.76</td>\n",
       "      <td>2021-12-29</td>\n",
       "      <td>8.0</td>\n",
       "      <td>0.0</td>\n",
       "      <td>0.0</td>\n",
       "      <td>...</td>\n",
       "      <td>2021-12-29 14:46:25.4847000</td>\n",
       "      <td>45700.0</td>\n",
       "      <td>3166.666666</td>\n",
       "      <td>19000.0</td>\n",
       "      <td>6.0</td>\n",
       "      <td>1000.0</td>\n",
       "      <td>2.0</td>\n",
       "      <td>1.0</td>\n",
       "      <td>0.376611</td>\n",
       "      <td>55.0</td>\n",
       "    </tr>\n",
       "    <tr>\n",
       "      <th>1</th>\n",
       "      <td>10822247</td>\n",
       "      <td>NaN</td>\n",
       "      <td>40593.069535</td>\n",
       "      <td>1.256787</td>\n",
       "      <td>3342.60</td>\n",
       "      <td>668.52</td>\n",
       "      <td>2020-09-30</td>\n",
       "      <td>1.0</td>\n",
       "      <td>4500.0</td>\n",
       "      <td>900.0</td>\n",
       "      <td>...</td>\n",
       "      <td>2020-10-16 00:00:44.0122000</td>\n",
       "      <td>113100.0</td>\n",
       "      <td>4500.000000</td>\n",
       "      <td>9000.0</td>\n",
       "      <td>2.0</td>\n",
       "      <td>5000.0</td>\n",
       "      <td>1.0</td>\n",
       "      <td>1.0</td>\n",
       "      <td>0.788738</td>\n",
       "      <td>29.0</td>\n",
       "    </tr>\n",
       "    <tr>\n",
       "      <th>2</th>\n",
       "      <td>10941976</td>\n",
       "      <td>NaN</td>\n",
       "      <td>40593.069535</td>\n",
       "      <td>1.256787</td>\n",
       "      <td>1762.54</td>\n",
       "      <td>1762.54</td>\n",
       "      <td>2022-07-28</td>\n",
       "      <td>3.0</td>\n",
       "      <td>0.0</td>\n",
       "      <td>808.0</td>\n",
       "      <td>...</td>\n",
       "      <td>2021-06-17 16:26:56.3647000</td>\n",
       "      <td>92900.0</td>\n",
       "      <td>3333.333333</td>\n",
       "      <td>20000.0</td>\n",
       "      <td>6.0</td>\n",
       "      <td>1000.0</td>\n",
       "      <td>0.0</td>\n",
       "      <td>0.0</td>\n",
       "      <td>0.375597</td>\n",
       "      <td>33.0</td>\n",
       "    </tr>\n",
       "    <tr>\n",
       "      <th>3</th>\n",
       "      <td>10782539</td>\n",
       "      <td>NaN</td>\n",
       "      <td>40593.069535</td>\n",
       "      <td>1.256787</td>\n",
       "      <td>3723.60</td>\n",
       "      <td>3723.60</td>\n",
       "      <td>2021-08-31</td>\n",
       "      <td>5.0</td>\n",
       "      <td>0.0</td>\n",
       "      <td>0.0</td>\n",
       "      <td>...</td>\n",
       "      <td>2021-09-25 14:09:25.7650000</td>\n",
       "      <td>173800.0</td>\n",
       "      <td>5720.000000</td>\n",
       "      <td>34320.0</td>\n",
       "      <td>6.0</td>\n",
       "      <td>5000.0</td>\n",
       "      <td>1.0</td>\n",
       "      <td>0.0</td>\n",
       "      <td>0.773472</td>\n",
       "      <td>31.0</td>\n",
       "    </tr>\n",
       "    <tr>\n",
       "      <th>4</th>\n",
       "      <td>10916477</td>\n",
       "      <td>NaN</td>\n",
       "      <td>40593.069535</td>\n",
       "      <td>1.256787</td>\n",
       "      <td>2478.72</td>\n",
       "      <td>0.00</td>\n",
       "      <td>2022-03-31</td>\n",
       "      <td>0.0</td>\n",
       "      <td>0.0</td>\n",
       "      <td>0.0</td>\n",
       "      <td>...</td>\n",
       "      <td>2022-04-16 00:02:41.8644000</td>\n",
       "      <td>240200.0</td>\n",
       "      <td>6286.666666</td>\n",
       "      <td>37720.0</td>\n",
       "      <td>6.0</td>\n",
       "      <td>5000.0</td>\n",
       "      <td>0.0</td>\n",
       "      <td>0.0</td>\n",
       "      <td>0.278507</td>\n",
       "      <td>46.0</td>\n",
       "    </tr>\n",
       "  </tbody>\n",
       "</table>\n",
       "<p>5 rows × 46 columns</p>\n",
       "</div>"
      ],
      "text/plain": [
       "   PolicyId  ClaimId   SumTotalClaimAmount  CountTotalClaimAmount  PremiumSum  \\\n",
       "0  10806273       NaN         40593.069535               1.256787     4915.98   \n",
       "1  10822247       NaN         40593.069535               1.256787     3342.60   \n",
       "2  10941976       NaN         40593.069535               1.256787     1762.54   \n",
       "3  10782539       NaN         40593.069535               1.256787     3723.60   \n",
       "4  10916477       NaN         40593.069535               1.256787     2478.72   \n",
       "\n",
       "   CasePremiumSum PaymentDueDate  TotalPremiumPaymentCount  \\\n",
       "0         4369.76     2021-12-29                       8.0   \n",
       "1          668.52     2020-09-30                       1.0   \n",
       "2         1762.54     2022-07-28                       3.0   \n",
       "3         3723.60     2021-08-31                       5.0   \n",
       "4            0.00     2022-03-31                       0.0   \n",
       "\n",
       "   PreviousInsurerExcess  PreviousInsurerPremium  ...  \\\n",
       "0                    0.0                     0.0  ...   \n",
       "1                 4500.0                   900.0  ...   \n",
       "2                    0.0                   808.0  ...   \n",
       "3                    0.0                     0.0  ...   \n",
       "4                    0.0                     0.0  ...   \n",
       "\n",
       "                 PolicyEndDate  SumAssured   MeanExcess TotalExcess  \\\n",
       "0  2021-12-29 14:46:25.4847000     45700.0  3166.666666     19000.0   \n",
       "1  2020-10-16 00:00:44.0122000    113100.0  4500.000000      9000.0   \n",
       "2  2021-06-17 16:26:56.3647000     92900.0  3333.333333     20000.0   \n",
       "3  2021-09-25 14:09:25.7650000    173800.0  5720.000000     34320.0   \n",
       "4  2022-04-16 00:02:41.8644000    240200.0  6286.666666     37720.0   \n",
       "\n",
       "  ExcessTypesCount BaseExcess NomimatedDriversCount  \\\n",
       "0              6.0     1000.0                   2.0   \n",
       "1              2.0     5000.0                   1.0   \n",
       "2              6.0     1000.0                   0.0   \n",
       "3              6.0     5000.0                   1.0   \n",
       "4              6.0     5000.0                   0.0   \n",
       "\n",
       "  NomimatedDriversUnder30Count 0.5865768182345752   Age  \n",
       "0                          1.0           0.376611  55.0  \n",
       "1                          1.0           0.788738  29.0  \n",
       "2                          0.0           0.375597  33.0  \n",
       "3                          0.0           0.773472  31.0  \n",
       "4                          0.0           0.278507  46.0  \n",
       "\n",
       "[5 rows x 46 columns]"
      ]
     },
     "execution_count": 36,
     "metadata": {},
     "output_type": "execute_result"
    }
   ],
   "source": [
    "df.head()"
   ]
  },
  {
   "cell_type": "code",
   "execution_count": 37,
   "id": "9a8f1ca8",
   "metadata": {},
   "outputs": [
    {
     "name": "stderr",
     "output_type": "stream",
     "text": [
      "C:\\Users\\DELL XPS\\anaconda3\\lib\\site-packages\\seaborn\\distributions.py:2619: FutureWarning: `distplot` is a deprecated function and will be removed in a future version. Please adapt your code to use either `displot` (a figure-level function with similar flexibility) or `histplot` (an axes-level function for histograms).\n",
      "  warnings.warn(msg, FutureWarning)\n"
     ]
    },
    {
     "data": {
      "text/plain": [
       "<AxesSubplot:xlabel='Age', ylabel='Density'>"
      ]
     },
     "execution_count": 37,
     "metadata": {},
     "output_type": "execute_result"
    },
    {
     "data": {
      "image/png": "[encoded data removed]",
      "text/plain": [
       "<Figure size 432x288 with 1 Axes>"
      ]
     },
     "metadata": {
      "needs_background": "light"
     },
     "output_type": "display_data"
    }
   ],
   "source": [
    "sns.distplot(df['Age'])"
   ]
  },
  {
   "cell_type": "code",
   "execution_count": 38,
   "id": "8f8f030a",
   "metadata": {},
   "outputs": [
    {
     "data": {
      "text/plain": [
       "19.0"
      ]
     },
     "execution_count": 38,
     "metadata": {},
     "output_type": "execute_result"
    }
   ],
   "source": [
    "df['Age'].min()"
   ]
  },
  {
   "cell_type": "code",
   "execution_count": 39,
   "id": "e49db5e5",
   "metadata": {},
   "outputs": [
    {
     "data": {
      "text/plain": [
       "92.0"
      ]
     },
     "execution_count": 39,
     "metadata": {},
     "output_type": "execute_result"
    }
   ],
   "source": [
    "df['Age'].max()"
   ]
  },
  {
   "cell_type": "code",
   "execution_count": 40,
   "id": "d2ee31ab",
   "metadata": {},
   "outputs": [
    {
     "data": {
      "text/plain": [
       "0           Old\n",
       "1    Middle-Age\n",
       "2    Middle-Age\n",
       "3    Middle-Age\n",
       "4    Middle-Age\n",
       "Name: Age_Bin, dtype: category\n",
       "Categories (3, object): ['Young' < 'Middle-Age' < 'Old']"
      ]
     },
     "execution_count": 40,
     "metadata": {},
     "output_type": "execute_result"
    }
   ],
   "source": [
    "df['Age_Bin']=pd.cut(df['Age'],bins=[1,25,50,80] , labels=['Young','Middle-Age','Old'])\n",
    "df['Age_Bin'].head()"
   ]
  },
  {
   "cell_type": "code",
   "execution_count": 41,
   "id": "dcf6f087",
   "metadata": {},
   "outputs": [
    {
     "data": {
      "text/plain": [
       "<AxesSubplot:xlabel='Age_Bin', ylabel='count'>"
      ]
     },
     "execution_count": 41,
     "metadata": {},
     "output_type": "execute_result"
    },
    {
     "data": {
      "image/png": "[encoded data removed]",
      "text/plain": [
       "<Figure size 432x288 with 1 Axes>"
      ]
     },
     "metadata": {
      "needs_background": "light"
     },
     "output_type": "display_data"
    }
   ],
   "source": [
    "sns.countplot(x = 'Age_Bin', data = df)"
   ]
  },
  {
   "cell_type": "code",
   "execution_count": 42,
   "id": "f11d99a3",
   "metadata": {},
   "outputs": [
    {
     "data": {
      "text/plain": [
       "Middle-Age    82.096560\n",
       "Old           15.793639\n",
       "Young          2.109801\n",
       "Name: Age_Bin, dtype: float64"
      ]
     },
     "execution_count": 42,
     "metadata": {},
     "output_type": "execute_result"
    }
   ],
   "source": [
    "df['Age_Bin'].value_counts(normalize=True)*100"
   ]
  },
  {
   "cell_type": "markdown",
   "id": "5c4ed51b",
   "metadata": {},
   "source": [
    "From the plot, we can see that the claims are higher for the middle age group (25-40) which is roughly 82%."
   ]
  },
  {
   "cell_type": "code",
   "execution_count": 43,
   "id": "c468060d",
   "metadata": {},
   "outputs": [
    {
     "data": {
      "text/plain": [
       "<AxesSubplot:xlabel='MaritalStatus', ylabel='count'>"
      ]
     },
     "execution_count": 43,
     "metadata": {},
     "output_type": "execute_result"
    },
    {
     "data": {
      "image/png": "[encoded data removed]",
      "text/plain": [
       "<Figure size 432x288 with 1 Axes>"
      ]
     },
     "metadata": {
      "needs_background": "light"
     },
     "output_type": "display_data"
    }
   ],
   "source": [
    "sns.countplot(x = 'MaritalStatus', data = df)"
   ]
  },
  {
   "cell_type": "code",
   "execution_count": 44,
   "id": "b41c64c0",
   "metadata": {},
   "outputs": [
    {
     "data": {
      "text/plain": [
       "Single      50.800411\n",
       "Married     42.973877\n",
       "Divorced     4.211567\n",
       "Widowed      2.014145\n",
       "Name: MaritalStatus, dtype: float64"
      ]
     },
     "execution_count": 44,
     "metadata": {},
     "output_type": "execute_result"
    }
   ],
   "source": [
    "df['MaritalStatus'].value_counts(normalize=True)*100"
   ]
  },
  {
   "cell_type": "markdown",
   "id": "35613a78",
   "metadata": {},
   "source": [
    "From the plot, we can see that the claims are higher for the single which is roughly 50%."
   ]
  },
  {
   "cell_type": "code",
   "execution_count": 46,
   "id": "8231377d",
   "metadata": {},
   "outputs": [
    {
     "data": {
      "text/plain": [
       "<AxesSubplot:xlabel='EmploymentType', ylabel='count'>"
      ]
     },
     "execution_count": 46,
     "metadata": {},
     "output_type": "execute_result"
    },
    {
     "data": {
      "image/png": "[encoded data removed]",
      "text/plain": [
       "<Figure size 432x288 with 1 Axes>"
      ]
     },
     "metadata": {
      "needs_background": "light"
     },
     "output_type": "display_data"
    }
   ],
   "source": [
    "sns.countplot(x = 'EmploymentType', data = df)"
   ]
  },
  {
   "cell_type": "code",
   "execution_count": 47,
   "id": "32f2fa19",
   "metadata": {},
   "outputs": [
    {
     "data": {
      "text/plain": [
       "Permanent             84.873189\n",
       "Self-Employed          7.202935\n",
       "Temporary / Casual     2.619491\n",
       "Retired                2.194000\n",
       "Unemployed             1.629720\n",
       "Part-time              1.408799\n",
       "Commission Earner      0.071866\n",
       "Name: EmploymentType, dtype: float64"
      ]
     },
     "execution_count": 47,
     "metadata": {},
     "output_type": "execute_result"
    }
   ],
   "source": [
    "df['EmploymentType'].value_counts(normalize=True)*100"
   ]
  },
  {
   "cell_type": "code",
   "execution_count": null,
   "id": "16455ce7",
   "metadata": {},
   "outputs": [],
   "source": []
  }
 ],
 "metadata": {
  "kernelspec": {
   "display_name": "Python 3 (ipykernel)",
   "language": "python",
   "name": "python3"
  },
  "language_info": {
   "codemirror_mode": {
    "name": "ipython",
    "version": 3
   },
   "file_extension": ".py",
   "mimetype": "text/x-python",
   "name": "python",
   "nbconvert_exporter": "python",
   "pygments_lexer": "ipython3",
   "version": "3.9.7"
  }
 },
 "nbformat": 4,
 "nbformat_minor": 5
}
